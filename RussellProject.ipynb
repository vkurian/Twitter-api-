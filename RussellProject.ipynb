{
 "cells": [
  {
   "cell_type": "code",
   "execution_count": 1,
   "metadata": {},
   "outputs": [],
   "source": [
    "import sys\n",
    "import operator\n",
    "import requests\n",
    "import json\n",
    "import twitter"
   ]
  },
  {
   "cell_type": "code",
   "execution_count": 2,
   "metadata": {},
   "outputs": [],
   "source": [
    "import tweepy\n",
    "import time\n",
    "import requests\n",
    "import pandas as pd"
   ]
  },
  {
   "cell_type": "code",
   "execution_count": 3,
   "metadata": {},
   "outputs": [],
   "source": [
    "consumer_key = 'RaHOY69LfHJZKRnyqmJ8VAhtG'\n",
    "consumer_secret = 'iKzBFVHChgCi3ECp63AmyMctpWDhc0bWkhp1SOErFGMWArUwTu'\n",
    "access_token = '2773850392-atGVLCt9Q9sVpPlVTRcqLR8rH351SqyCNPmDjq4'\n",
    "access_secret = '00TVcBU8j8IQRPFF03AjEWfFdltOQk3OesMUSpUT4J0XA'\n",
    "bearer_token = 'AAAAAAAAAAAAAAAAAAAAAJuBZQEAAAAATmIHJF5ACz%2BNA4geq3RjQeBBQN8%3DF6yFnlzXpeWlpMoFAFxMqIbKdOVcH82rkNW2YLGIO1CuevaqhY'\n"
   ]
  },
  {
   "cell_type": "code",
   "execution_count": 27,
   "metadata": {},
   "outputs": [],
   "source": [
    "auth = tweepy.OAuthHandler(consumer_key, consumer_secret)\n",
    "auth.set_access_token(access_token, access_secret)\n",
    "api = tweepy.API(auth,wait_on_rate_limit=True)"
   ]
  },
  {
   "cell_type": "code",
   "execution_count": 28,
   "metadata": {},
   "outputs": [],
   "source": [
    "num_tweets = 200\n",
    "tweets = []\n",
    "likes = []\n",
    "time = []\n",
    "retweets = []\n",
    "\n",
    "search_word = str(input(\" \"))\n",
    "\n",
    "for t in tweepy.Cursor (api.search_tweets, q= search_word, result_type = ['popular'], lang = 'en',tweet_mode='extended').items(num_tweets):\n",
    "    tweets.append(t.full_text)\n",
    "    likes.append(t.favorite_count)\n",
    "    time.append(t.created_at)\n",
    "    retweets.append(t.retweet_count)"
   ]
  },
  {
   "cell_type": "code",
   "execution_count": 30,
   "metadata": {},
   "outputs": [],
   "source": [
    "df = pd.DataFrame({'tweets':tweets, 'likes':likes,'retweets':retweets, 'time':time})"
   ]
  },
  {
   "cell_type": "code",
   "execution_count": 32,
   "metadata": {},
   "outputs": [
    {
     "data": {
      "text/html": [
       "<div>\n",
       "<style scoped>\n",
       "    .dataframe tbody tr th:only-of-type {\n",
       "        vertical-align: middle;\n",
       "    }\n",
       "\n",
       "    .dataframe tbody tr th {\n",
       "        vertical-align: top;\n",
       "    }\n",
       "\n",
       "    .dataframe thead th {\n",
       "        text-align: right;\n",
       "    }\n",
       "</style>\n",
       "<table border=\"1\" class=\"dataframe\">\n",
       "  <thead>\n",
       "    <tr style=\"text-align: right;\">\n",
       "      <th></th>\n",
       "      <th>tweets</th>\n",
       "      <th>likes</th>\n",
       "      <th>retweets</th>\n",
       "      <th>time</th>\n",
       "    </tr>\n",
       "  </thead>\n",
       "  <tbody>\n",
       "    <tr>\n",
       "      <th>193</th>\n",
       "      <td>@hoseokspriite @jmkkyu Wait there are some peo...</td>\n",
       "      <td>35</td>\n",
       "      <td>0</td>\n",
       "      <td>2022-03-03 09:56:12+00:00</td>\n",
       "    </tr>\n",
       "    <tr>\n",
       "      <th>73</th>\n",
       "      <td>painting my nails in the mc donalds drive thru</td>\n",
       "      <td>20</td>\n",
       "      <td>6</td>\n",
       "      <td>2022-03-04 02:28:20+00:00</td>\n",
       "    </tr>\n",
       "    <tr>\n",
       "      <th>118</th>\n",
       "      <td>Hey all, did you know that a basket of fries f...</td>\n",
       "      <td>16</td>\n",
       "      <td>0</td>\n",
       "      <td>2022-03-03 21:06:12+00:00</td>\n",
       "    </tr>\n",
       "    <tr>\n",
       "      <th>186</th>\n",
       "      <td>Local: Mc Donalds - Barra Shopping (Porto Aleg...</td>\n",
       "      <td>15</td>\n",
       "      <td>7</td>\n",
       "      <td>2022-03-03 11:54:21+00:00</td>\n",
       "    </tr>\n",
       "    <tr>\n",
       "      <th>105</th>\n",
       "      <td>When markets go down and expectations are not ...</td>\n",
       "      <td>14</td>\n",
       "      <td>9</td>\n",
       "      <td>2022-03-03 23:02:04+00:00</td>\n",
       "    </tr>\n",
       "    <tr>\n",
       "      <th>...</th>\n",
       "      <td>...</td>\n",
       "      <td>...</td>\n",
       "      <td>...</td>\n",
       "      <td>...</td>\n",
       "    </tr>\n",
       "    <tr>\n",
       "      <th>76</th>\n",
       "      <td>@janajwrites @OminousHallways @annasmuse @mybi...</td>\n",
       "      <td>0</td>\n",
       "      <td>0</td>\n",
       "      <td>2022-03-04 02:16:40+00:00</td>\n",
       "    </tr>\n",
       "    <tr>\n",
       "      <th>78</th>\n",
       "      <td>mc donalds need to stop being stingy with the ...</td>\n",
       "      <td>0</td>\n",
       "      <td>0</td>\n",
       "      <td>2022-03-04 02:02:37+00:00</td>\n",
       "    </tr>\n",
       "    <tr>\n",
       "      <th>83</th>\n",
       "      <td>I have another product idea, an addition to th...</td>\n",
       "      <td>0</td>\n",
       "      <td>0</td>\n",
       "      <td>2022-03-04 00:50:32+00:00</td>\n",
       "    </tr>\n",
       "    <tr>\n",
       "      <th>84</th>\n",
       "      <td>@ilvgnf @dnfheartcore yeah i told bloom to get...</td>\n",
       "      <td>0</td>\n",
       "      <td>0</td>\n",
       "      <td>2022-03-04 00:50:31+00:00</td>\n",
       "    </tr>\n",
       "    <tr>\n",
       "      <th>100</th>\n",
       "      <td>RT @FastFoodKevin: When markets go down and ex...</td>\n",
       "      <td>0</td>\n",
       "      <td>9</td>\n",
       "      <td>2022-03-03 23:07:07+00:00</td>\n",
       "    </tr>\n",
       "  </tbody>\n",
       "</table>\n",
       "<p>200 rows × 4 columns</p>\n",
       "</div>"
      ],
      "text/plain": [
       "                                                tweets  likes  retweets  \\\n",
       "193  @hoseokspriite @jmkkyu Wait there are some peo...     35         0   \n",
       "73      painting my nails in the mc donalds drive thru     20         6   \n",
       "118  Hey all, did you know that a basket of fries f...     16         0   \n",
       "186  Local: Mc Donalds - Barra Shopping (Porto Aleg...     15         7   \n",
       "105  When markets go down and expectations are not ...     14         9   \n",
       "..                                                 ...    ...       ...   \n",
       "76   @janajwrites @OminousHallways @annasmuse @mybi...      0         0   \n",
       "78   mc donalds need to stop being stingy with the ...      0         0   \n",
       "83   I have another product idea, an addition to th...      0         0   \n",
       "84   @ilvgnf @dnfheartcore yeah i told bloom to get...      0         0   \n",
       "100  RT @FastFoodKevin: When markets go down and ex...      0         9   \n",
       "\n",
       "                         time  \n",
       "193 2022-03-03 09:56:12+00:00  \n",
       "73  2022-03-04 02:28:20+00:00  \n",
       "118 2022-03-03 21:06:12+00:00  \n",
       "186 2022-03-03 11:54:21+00:00  \n",
       "105 2022-03-03 23:02:04+00:00  \n",
       "..                        ...  \n",
       "76  2022-03-04 02:16:40+00:00  \n",
       "78  2022-03-04 02:02:37+00:00  \n",
       "83  2022-03-04 00:50:32+00:00  \n",
       "84  2022-03-04 00:50:31+00:00  \n",
       "100 2022-03-03 23:07:07+00:00  \n",
       "\n",
       "[200 rows x 4 columns]"
      ]
     },
     "execution_count": 32,
     "metadata": {},
     "output_type": "execute_result"
    }
   ],
   "source": [
    "df.sort_values(\"likes\",ascending=False)"
   ]
  },
  {
   "cell_type": "code",
   "execution_count": null,
   "metadata": {},
   "outputs": [],
   "source": [
    "from collections import Counter\n",
    "for t in [words]"
   ]
  }
 ],
 "metadata": {
  "interpreter": {
   "hash": "aee8b7b246df8f9039afb4144a1f6fd8d2ca17a180786b69acc140d282b71a49"
  },
  "kernelspec": {
   "display_name": "Python 3.10.0 64-bit",
   "language": "python",
   "name": "python3"
  },
  "language_info": {
   "codemirror_mode": {
    "name": "ipython",
    "version": 3
   },
   "file_extension": ".py",
   "mimetype": "text/x-python",
   "name": "python",
   "nbconvert_exporter": "python",
   "pygments_lexer": "ipython3",
   "version": "3.10.0"
  },
  "orig_nbformat": 4
 },
 "nbformat": 4,
 "nbformat_minor": 2
}
